{
  "nbformat": 4,
  "nbformat_minor": 0,
  "metadata": {
    "colab": {
      "name": "Aula04_Exercicios.ipynb",
      "provenance": [],
      "collapsed_sections": []
    },
    "kernelspec": {
      "name": "python3",
      "display_name": "Python 3"
    },
    "language_info": {
      "name": "python"
    }
  },
  "cells": [
    {
      "cell_type": "markdown",
      "metadata": {
        "id": "DptQTkwqN7v9"
      },
      "source": [
        "# Exercícios de Aquecimento\n",
        "\n",
        "## Exercício 01\n",
        "Elabore um programa que imprima na tela a seguinte frase `Olá Mundo! Esse é o meu primeiro programa`"
      ]
    },
    {
      "cell_type": "code",
      "metadata": {
        "id": "fu-Hvxg7OT64",
        "colab": {
          "base_uri": "https://localhost:8080/"
        },
        "outputId": "0e261dc5-75c7-4b4e-83ec-fa8c8ec8dce3"
      },
      "source": [
        "print ('Olá, mundo! Este é o meu primeiro programa.')"
      ],
      "execution_count": null,
      "outputs": [
        {
          "output_type": "stream",
          "text": [
            "Olá, mundo! Este é o meu primeiro programa.\n"
          ],
          "name": "stdout"
        }
      ]
    },
    {
      "cell_type": "markdown",
      "metadata": {
        "id": "HYnPLbl2OfuE"
      },
      "source": [
        "## Exercício 02\n",
        "Elabore um programa que escreve seu nome completo na primeira linha, seu endereço na segunda e o CEP e telefone na terceira.  \n",
        "\n",
        "**Exemplo:**\n",
        "```\n",
        "Nome: Bruno Fabri\n",
        "Endereço: Rua ABC\n",
        "CEP: 002220-010\n",
        "```"
      ]
    },
    {
      "cell_type": "code",
      "metadata": {
        "id": "sUrmuOzbO5Cd",
        "colab": {
          "base_uri": "https://localhost:8080/"
        },
        "outputId": "e469fe95-3e27-45ea-a1d2-b75a556f9f5f"
      },
      "source": [
        "#Usando apenas um print\n",
        "\n",
        "print('Nome: Vanessa Sales\\nEndereço: Rua ABCD\\nCEP: 22222-22\\nTelefone: (22) 22222-2222')"
      ],
      "execution_count": null,
      "outputs": [
        {
          "output_type": "stream",
          "text": [
            "Nome: Vanessa Sales\n",
            "Endereço: Rua ABCD\n",
            "CEP: 22222-22\n",
            "Telefone: (22) 22222-2222\n"
          ],
          "name": "stdout"
        }
      ]
    },
    {
      "cell_type": "code",
      "metadata": {
        "colab": {
          "base_uri": "https://localhost:8080/"
        },
        "id": "W5K7swBNBQGy",
        "outputId": "8c9aed5b-ada2-4e19-db82-8f8b9e4b12a1"
      },
      "source": [
        "#Usando vários prints\n",
        "\n",
        "print('Nome: Vanessa Sales')\n",
        "print('Endereço: Rua ABCD')\n",
        "print('CEP: 22222-22')\n",
        "print('Telefone: (22) 22222-2222')"
      ],
      "execution_count": null,
      "outputs": [
        {
          "output_type": "stream",
          "text": [
            "Nome: Vanessa Sales\n",
            "Endereço: Rua ABCD\n",
            "CEP: 22222-22\n",
            "Telefone: (22) 22222-2222\n"
          ],
          "name": "stdout"
        }
      ]
    },
    {
      "cell_type": "code",
      "metadata": {
        "colab": {
          "base_uri": "https://localhost:8080/"
        },
        "id": "kFU_4ZwW3wJF",
        "outputId": "c60f0ccd-4b9a-4b12-ae83-139656cf8f0f"
      },
      "source": [
        "#Usando três aspas\n",
        "\n",
        "print('''Nome: Vanessa Sales\n",
        "Endereço: Rua ABCD\n",
        "CEP: 22222-22\n",
        "Telefone: (22) 22222-2222\n",
        "''')"
      ],
      "execution_count": null,
      "outputs": [
        {
          "output_type": "stream",
          "text": [
            "Nome: Vanessa Sales\n",
            "Endereço: Rua ABCD\n",
            "CEP: 22222-22\n",
            "Telefone: (22) 22222-2222\n",
            "\n"
          ],
          "name": "stdout"
        }
      ]
    },
    {
      "cell_type": "markdown",
      "metadata": {
        "id": "5XVY0cvwP1WX"
      },
      "source": [
        "## Exercício 03\n",
        "Elabore um programa que recebe o nome de uma pessoa do terminal e mostra a seguinte mensagem: `Olá {nome}! Seja bem vindo ao fantástico mundo da programação`"
      ]
    },
    {
      "cell_type": "code",
      "metadata": {
        "id": "VDfwe6OSQM0M",
        "colab": {
          "base_uri": "https://localhost:8080/"
        },
        "outputId": "bd9e7d95-51c4-481f-e619-0dcb5c1688f0"
      },
      "source": [
        "nome = input('Digite o seu nome: ')\n",
        "print('Olá,', nome + '! Seja bem-vindo(a) ao fantástico mundo da programação.')"
      ],
      "execution_count": null,
      "outputs": [
        {
          "output_type": "stream",
          "text": [
            "Digite o seu nome: Vanessa\n",
            "Olá, Vanessa! Seja bem-vindo(a) ao fantástico mundo da programação.\n"
          ],
          "name": "stdout"
        }
      ]
    },
    {
      "cell_type": "code",
      "metadata": {
        "colab": {
          "base_uri": "https://localhost:8080/"
        },
        "id": "Z0g6pRoq-uJi",
        "outputId": "179bc32b-6335-4376-eaca-b3f2955e0422"
      },
      "source": [
        "#Usando format\n",
        "\n",
        "nome = input('Digite o seu nome: ')\n",
        "print('Olá, {}! Seja bem-vindo(a) ao fantástico mundo da programação.' .format(nome))"
      ],
      "execution_count": null,
      "outputs": [
        {
          "output_type": "stream",
          "text": [
            "Digite o seu nome: Vanessa\n",
            "Olá, Vanessa! Seja bem-vindo(a) ao fantástico mundo da programação.\n"
          ],
          "name": "stdout"
        }
      ]
    },
    {
      "cell_type": "code",
      "metadata": {
        "colab": {
          "base_uri": "https://localhost:8080/"
        },
        "id": "sSBR4PAX_mKA",
        "outputId": "f9471591-804d-4cf9-8e48-5aee41d9d4ad"
      },
      "source": [
        "#Usando sugar\n",
        "\n",
        "nome = input('Digite o seu nome: ')\n",
        "print(f'Olá, {nome}! Seja bem-vindo(a) ao fantástico mundo da programação.')"
      ],
      "execution_count": null,
      "outputs": [
        {
          "output_type": "stream",
          "text": [
            "Digite o seu nome: Vanessa\n",
            "Olá, Vanessa! Seja bem-vindo(a) ao fantástico mundo da programação.\n"
          ],
          "name": "stdout"
        }
      ]
    },
    {
      "cell_type": "markdown",
      "metadata": {
        "id": "1Nb29agVQc3k"
      },
      "source": [
        "## Exercício 04\n",
        "Elabore um programa que recebe dois valores inteiros e mostra a soma desses valores\n",
        "\n",
        "**Exemplo:**\n",
        "\n",
        "```\n",
        "Primeiro Valor = 2\n",
        "Segundo Valor = 3\n",
        "Soma = 5\n",
        "```"
      ]
    },
    {
      "cell_type": "code",
      "metadata": {
        "id": "a6_BwVwRROmH",
        "colab": {
          "base_uri": "https://localhost:8080/"
        },
        "outputId": "c0911fd0-de7d-4f2b-bcb0-3434285467bc"
      },
      "source": [
        "#Cálculo usando int.\n",
        "#int não aceita número decimal.\n",
        "\n",
        "numero1 = int(input('Digite o primeiro valor: '))\n",
        "numero2 = int(input('Digite o segundo valor: '))\n",
        "soma = numero1 + numero2\n",
        "print('Soma =', soma)"
      ],
      "execution_count": null,
      "outputs": [
        {
          "output_type": "stream",
          "text": [
            "Digite o primeiro valor: 2\n",
            "Digite o segundo valor: 3\n",
            "Soma = 5\n"
          ],
          "name": "stdout"
        }
      ]
    },
    {
      "cell_type": "code",
      "metadata": {
        "colab": {
          "base_uri": "https://localhost:8080/"
        },
        "id": "4LDE29w3EqC1",
        "outputId": "2c4acf18-8e9a-4e30-8d68-6af8215e04db"
      },
      "source": [
        "#Cálculo usando float.\n",
        "#float aceita cálculo com número inteiro e decimal.\n",
        "\n",
        "numero1 = float(input('Digite o primeiro valor: '))\n",
        "numero2 = float(input('Digite o segundo valor: '))\n",
        "soma = numero1 + numero2\n",
        "print('Soma =', soma)"
      ],
      "execution_count": null,
      "outputs": [
        {
          "output_type": "stream",
          "text": [
            "Digite o primeiro valor: 2\n",
            "Digite o segundo valor: 3\n",
            "Soma = 5.0\n"
          ],
          "name": "stdout"
        }
      ]
    },
    {
      "cell_type": "markdown",
      "metadata": {
        "id": "4HQxR3FTTbSr"
      },
      "source": [
        "## Exercício 05\n",
        "Elabore um programa que recebe dois valores inteiros e mostra se o primeiro valor é maior ou igual ao segundo valor\n",
        "\n",
        "**Exemplo:**\n",
        "```\n",
        "Primeiro Valor = 3\n",
        "Segundo Valor = 2\n",
        "Resultado = True\n",
        "```"
      ]
    },
    {
      "cell_type": "code",
      "metadata": {
        "id": "OXISQASdTeSW",
        "colab": {
          "base_uri": "https://localhost:8080/"
        },
        "outputId": "7404bd71-e3f3-42f1-dbad-ca4eea56f75d"
      },
      "source": [
        "numero1 = int(input('Digite o primeiro valor: '))\n",
        "numero2 = int(input('Digite o segundo valor: '))\n",
        "print('Resultado =', numero1 >= numero2)"
      ],
      "execution_count": null,
      "outputs": [
        {
          "output_type": "stream",
          "text": [
            "Digite o primeiro valor: 3\n",
            "Digite o segundo valor: 2\n",
            "Resultado = True\n"
          ],
          "name": "stdout"
        }
      ]
    },
    {
      "cell_type": "markdown",
      "metadata": {
        "id": "Gn8rHPn3UCnc"
      },
      "source": [
        "## Exercício 06\n",
        "Elabore um programa que recebe o seu nome, endereço e hobby e mostra cada uma das informações da seguinte forma:\n",
        "- Nome -> Letra maiúscula\n",
        "- Endereço -> Letra minúscula\n",
        "- Hobby -> Primeira letra maiúscula\n",
        "\n",
        "**Exemplo Entrada:**\n",
        "```\n",
        "Nome: bruno fabri\n",
        "Endereço: Rua ABC\n",
        "Hobby: jogar cs\n",
        "```\n",
        "\n",
        "**Exemplo Saída:**\n",
        "```\n",
        "Nome: BRUNO FABRI\n",
        "Endereço: rua abc\n",
        "Hobby: Jogar cs\n",
        "```"
      ]
    },
    {
      "cell_type": "code",
      "metadata": {
        "id": "ZIj-PGVZVVP6",
        "colab": {
          "base_uri": "https://localhost:8080/"
        },
        "outputId": "befa8bfb-1c74-4b5f-d3cd-f07664d203e2"
      },
      "source": [
        "#Forma 01\n",
        "\n",
        "nome = input('Digite o seu nome: ')\n",
        "endereco = input('Digite o seu endereço: ')\n",
        "hobby = input('Digite o seu hobby: ')\n",
        "print('Nome:', nome.upper())\n",
        "print('Endereço:', endereco.lower())\n",
        "print('Hobby:', hobby.capitalize())"
      ],
      "execution_count": null,
      "outputs": [
        {
          "output_type": "stream",
          "text": [
            "Digite o seu nome: Vanessa\n",
            "Digite o seu endereço: Rua ABCD\n",
            "Digite o seu hobby: Ler\n",
            "Nome: VANESSA\n",
            "Endereço: rua abcd\n",
            "Hobby: Ler\n"
          ],
          "name": "stdout"
        }
      ]
    },
    {
      "cell_type": "code",
      "metadata": {
        "colab": {
          "base_uri": "https://localhost:8080/"
        },
        "id": "abu5gqc2DxWQ",
        "outputId": "850f801c-8c00-437a-9550-b4b20fa88557"
      },
      "source": [
        "#Forma 02\n",
        "\n",
        "nome = input('Digite o seu nome: ').upper()\n",
        "endereço = input('Digite seu endereço: ').lower()\n",
        "hobby = input('Digite seu hobby: ').capitalize()\n",
        "print('''\n",
        "Nome: {}\n",
        "Endereço: {}\n",
        "Hobby: {}\n",
        "'''.format(nome,endereço,hobby))"
      ],
      "execution_count": 6,
      "outputs": [
        {
          "output_type": "stream",
          "text": [
            "Digite o seu nome: Vanessa\n",
            "Digite seu endereço: Rua ABCD\n",
            "Digite seu hobby: Ler\n",
            "\n",
            "Nome: VANESSA\n",
            "Endereço: rua abcd\n",
            "Hobby: Ler\n",
            "\n"
          ],
          "name": "stdout"
        }
      ]
    },
    {
      "cell_type": "code",
      "metadata": {
        "colab": {
          "base_uri": "https://localhost:8080/"
        },
        "id": "rVaD5TFYFMo_",
        "outputId": "e758d673-7c9d-4641-98ad-b708b459649c"
      },
      "source": [
        "#Forma 03\n",
        "\n",
        "nome = input('Digite seu nome: ')\n",
        "endereco = input('Digite seu endereço: ')\n",
        "hobby = input('Digite seu hobby: ')\n",
        "\n",
        "print(f'Nome: {nome.upper()}\\nEndereço: {endereco.lower()}\\nHobby: {hobby.capitalize()}')"
      ],
      "execution_count": 10,
      "outputs": [
        {
          "output_type": "stream",
          "text": [
            "Digite seu nome: Vanessa\n",
            "Digite seu endereço: Rua ABCD\n",
            "Digite seu hobby: Ler\n",
            "Nome: VANESSA\n",
            "Endereço: rua abcd\n",
            "Hobby: Ler\n"
          ],
          "name": "stdout"
        }
      ]
    },
    {
      "cell_type": "markdown",
      "metadata": {
        "id": "wlvmEAPQNrcL"
      },
      "source": [
        "# Mini Projetos"
      ]
    },
    {
      "cell_type": "markdown",
      "metadata": {
        "id": "W8zwueNBKh4B"
      },
      "source": [
        "## Mini Projeto 01 - Conversor de Moeda\n",
        "Vamos construir um programa que irá converter moedas do real para o dólar e do dólar para o real. Vamos considerar que `$ 1,00 = R$ 5,75`\n",
        "\n",
        "### Parte 1\n",
        "Faça o conversor de moeda receber o valor em real e mostrar o valor convertido para dólar no formato `$ XXXX.XX`\n",
        "\n",
        "**Exemplo:**\n",
        "\n",
        "```\n",
        "Valor em R$ = 1000\n",
        "Valor em $ = $ 173.91\n",
        "```\n",
        "\n",
        "### Parte 2\n",
        "Altere o conversor de moedas para receber o valor em dólar, converter para real e mostrar o resultado no formato `R$ XXXX.XX`\n",
        "\n",
        "**Exemplo:**\n",
        "```\n",
        "Valor em $ = 1000\n",
        "Valor em R$ = R$ 5750.00\n",
        "```"
      ]
    },
    {
      "cell_type": "code",
      "metadata": {
        "id": "mRQ9fpIgMp5Z",
        "colab": {
          "base_uri": "https://localhost:8080/"
        },
        "outputId": "c7d867fa-5a6c-4836-9d14-8c20d2a05f95"
      },
      "source": [
        "#Parte1\n",
        "\n",
        "valorReal = float(input('Digite o valor em reais: R$'))\n",
        "conversao = valorReal/5.75\n",
        "print (f'Esse valor em dólares equivale a ${conversao:.2f}')"
      ],
      "execution_count": 22,
      "outputs": [
        {
          "output_type": "stream",
          "text": [
            "Digite o valor em reais: R$1000\n",
            "Esse valor em dólares equivale a $173.91\n"
          ],
          "name": "stdout"
        }
      ]
    },
    {
      "cell_type": "code",
      "metadata": {
        "colab": {
          "base_uri": "https://localhost:8080/"
        },
        "id": "Lho4dxvIZoCV",
        "outputId": "fa73f44d-d3b9-4419-8dc8-e9d13dba26cb"
      },
      "source": [
        "#Parte2\n",
        "\n",
        "valorReal = float(input('Digite o valor em dólares: $'))\n",
        "conversao = 5.75*valorReal\n",
        "print (f'Esse valor em reais equivale a R${conversao:.2f}')"
      ],
      "execution_count": 23,
      "outputs": [
        {
          "output_type": "stream",
          "text": [
            "Digite o valor em dólares: $1000\n",
            "Esse valor em reais equivale a R$5750.00\n"
          ],
          "name": "stdout"
        }
      ]
    },
    {
      "cell_type": "markdown",
      "metadata": {
        "id": "0NmAiF2DV_ju"
      },
      "source": [
        "## Mini Projeto 02 - Calculadora de aumento de aluguel\n",
        "Vamos construir um programa que irá calcular o aumento anual do seu aluguel em duas partes:\n",
        "\n",
        "### Parte 1\n",
        "A sua calculadora vai receber o `valor do aluguel` e calcular o aumento baseado no `IGPM de 31%`. A calculadora deve apresentar o aluguel reajustado no formato `R$ XXXX.XX`\n",
        "\n",
        "**Exemplo:**\n",
        "```\n",
        "Valor do aluguel = 1000\n",
        "Valor do aluguel reajustado = R$ 1310,00\n",
        "```\n",
        "\n",
        "### Parte 2\n",
        "Agora, altere sua calculadora para receber além do `valor do aluguel`, o percentual do reajuste no formato `XX%`.  \n",
        "\n",
        "**Dica:** Descubra uma forma de transformar o percentual recebido em um número para efetuar o cálculo.\n",
        "\n",
        "**Exemplo:**\n",
        "```\n",
        "Valor do aluguel = 1000\n",
        "Percentual do reajuste = 31%\n",
        "Valor do aluguel reajustado = R% 1310,00\n",
        "```"
      ]
    },
    {
      "cell_type": "code",
      "metadata": {
        "id": "0eHzSCyaGkYJ",
        "colab": {
          "base_uri": "https://localhost:8080/"
        },
        "outputId": "6cc3ebfe-77ae-4e0d-bdd2-5f72c041652e"
      },
      "source": [
        "#Parte1\n",
        "\n",
        "aluguel = float(input('Digite o valor do aluguel: R$'))\n",
        "igpm = 1.31\n",
        "reajuste = aluguel * igpm\n",
        "print(f'O aluguel foi reajustado para R${reajuste:.2f}')"
      ],
      "execution_count": 27,
      "outputs": [
        {
          "output_type": "stream",
          "text": [
            "Digite o valor do aluguel: R$1000\n",
            "O aluguel foi reajustado para R$1310.00\n"
          ],
          "name": "stdout"
        }
      ]
    },
    {
      "cell_type": "code",
      "metadata": {
        "colab": {
          "base_uri": "https://localhost:8080/"
        },
        "id": "QIee1LoIes57",
        "outputId": "365c8234-cdc2-4c96-995d-5e27d896a308"
      },
      "source": [
        "#Parte2\n",
        "\n",
        "aluguel = float(input('Digite o valor do aluguel: R$'))\n",
        "igpm = (input('Digite o percentual do reajuste: '))\n",
        "igpmDecimal = (float(igpm.replace('%','')) / 100) + 1\n",
        "reajuste = aluguel * igpmDecimal\n",
        "print(f'O aluguel foi reajustado para R${reajuste:.2f}')"
      ],
      "execution_count": 29,
      "outputs": [
        {
          "output_type": "stream",
          "text": [
            "Digite o valor do aluguel: R$1000\n",
            "Digite o percentual do reajuste: 31\n",
            "O aluguel foi reajustado para R$1310.00\n"
          ],
          "name": "stdout"
        }
      ]
    },
    {
      "cell_type": "markdown",
      "metadata": {
        "id": "xN88sUuMOG46"
      },
      "source": [
        "## Mini Projeto 03 - Calculadora de dano\n",
        "Vamos implementar a calculadora de dano de RPG!!\n",
        "\n",
        "### Parte 1\n",
        "O programa vai receber a `vida e um monstro (entre 10 e 50)` e o `valor do ataque do jogador por turno (entre 5 e 10)`\n",
        "\n",
        "Baseado nos valores, exiba a quantidade de turnos que o jogador irá demorar para conseguir derrotar o monstro.\n",
        "\n",
        "**Exemplo:**\n",
        "```\n",
        "Vida de um monstro (entre 10 e 50): 26\n",
        "Valor do ataque do jogador por turno (entre 5 e 10): 5\n",
        "Resultado: O jogador irá precisar de 6 turnos para derrotar o monstro.\n",
        "```\n",
        "\n",
        "### Parte 2\n",
        "Altere o programa para ao invés de receber a vida do monstro, gerar aleatoriamente um valor entre 10 e 50."
      ]
    },
    {
      "cell_type": "code",
      "metadata": {
        "id": "Mrpz9UomQH2P",
        "colab": {
          "base_uri": "https://localhost:8080/"
        },
        "outputId": "e7b256c5-a94f-467d-873b-91344bd57f17"
      },
      "source": [
        "#Parte1\n",
        "\n",
        "import math\n",
        "\n",
        "vidaMonstro = int(input('Vida do monstro (entre 10 e 50): '))\n",
        "valorAtaque = int(input('Dano do ataque (entre 5 e 10): '))\n",
        "numeroTurnos = math.ceil(vidaMonstro/valorAtaque)\n",
        "print(f'O jogador precisará de {numeroTurnos} turnos para derrotar o monstro.')"
      ],
      "execution_count": 33,
      "outputs": [
        {
          "output_type": "stream",
          "text": [
            "Vida do monstro (entre 10 e 50): 26\n",
            "Dano do ataque (entre 5 e 10): 5\n",
            "O jogador precisará de 6 turnos para derrotar o monstro.\n"
          ],
          "name": "stdout"
        }
      ]
    },
    {
      "cell_type": "code",
      "metadata": {
        "colab": {
          "base_uri": "https://localhost:8080/"
        },
        "id": "UqEX2705hrMN",
        "outputId": "7ece00ca-a726-4c80-eeae-2be833e04015"
      },
      "source": [
        "#Parte2\n",
        "\n",
        "import math\n",
        "import random\n",
        "\n",
        "vidaMonstro = random.randint(10,51)\n",
        "print('Vida do monstro: ', random.randint(10, 51))\n",
        "valorAtaque = int(input('Dano do ataque (entre 5 e 10): '))\n",
        "numeroTurnos = math.ceil(vidaMonstro/valorAtaque)\n",
        "print(f'O jogador precisará de {numeroTurnos} turnos para derrotar o monstro.')"
      ],
      "execution_count": 34,
      "outputs": [
        {
          "output_type": "stream",
          "text": [
            "Vida do monstro:  23\n",
            "Dano do ataque (entre 5 e 10): 5\n",
            "O jogador precisará de 4 turnos para derrotar o monstro.\n"
          ],
          "name": "stdout"
        }
      ]
    }
  ]
}