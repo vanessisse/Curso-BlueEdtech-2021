{
  "nbformat": 4,
  "nbformat_minor": 0,
  "metadata": {
    "colab": {
      "name": "Aula05_Exercicios.ipynb",
      "provenance": [],
      "collapsed_sections": []
    },
    "kernelspec": {
      "name": "python3",
      "display_name": "Python 3"
    },
    "language_info": {
      "name": "python"
    }
  },
  "cells": [
    {
      "cell_type": "markdown",
      "metadata": {
        "id": "gEERCFCm2lz0"
      },
      "source": [
        "##**Exercício 1**"
      ]
    },
    {
      "cell_type": "markdown",
      "metadata": {
        "id": "kliXoLBqWdAC"
      },
      "source": [
        "**Faça um programa que leia três números inteiros e, em seguida, mostre o maior e o menor deles.**"
      ]
    },
    {
      "cell_type": "code",
      "metadata": {
        "colab": {
          "base_uri": "https://localhost:8080/"
        },
        "id": "O7G1esDV29qw",
        "outputId": "aefdf9c8-12f5-4ecf-cef5-eb336113b72a"
      },
      "source": [
        "num1 = int(input('Digite o primeiro número: '))\n",
        "num2 = int(input('Digite o segundo número: '))\n",
        "num3 = int(input('Digite o terceiro número: '))\n",
        "\n",
        "#Achando o maior número\n",
        "\n",
        "if num1 > num2 and num1 > num3:\n",
        "  print(f'{num1} é o maior número.')\n",
        "elif num2 >= num2 and num1 > num3:\n",
        "  print(f'{num2} é o maior número.')\n",
        "elif num3 > num1 and num3 > num2:\n",
        "  print(f'{num3} é o maior número.')\n",
        "\n",
        "#Achando o menor número\n",
        "\n",
        "if num1 < num2 and num1 < num3:\n",
        "  print(f'{num1} é o menor número.')\n",
        "elif num2 < num1 and num2 < num3:\n",
        "  print(f'{num2} é o menor número.')\n",
        "elif num3 < num1 and num3 < num2:\n",
        "  print(f'{num3} é o menor número.')"
      ],
      "execution_count": null,
      "outputs": [
        {
          "output_type": "stream",
          "text": [
            "Digite o primeiro número: 20\n",
            "Digite o segundo número: 2\n",
            "Digite o terceiro número: 10\n",
            "20 é o maior número.\n",
            "2 é o menor número.\n"
          ],
          "name": "stdout"
        }
      ]
    },
    {
      "cell_type": "markdown",
      "metadata": {
        "id": "kTtBjS9b2_Xd"
      },
      "source": [
        "##**Exercício 2**"
      ]
    },
    {
      "cell_type": "markdown",
      "metadata": {
        "id": "qW9_RxoDW0TL"
      },
      "source": [
        "**Faça um programa que peça dois números e imprima o maior deles.**"
      ]
    },
    {
      "cell_type": "code",
      "metadata": {
        "colab": {
          "base_uri": "https://localhost:8080/"
        },
        "id": "VGd6SOkR3P3s",
        "outputId": "834bffd8-30dc-4309-f1df-2f07384715e0"
      },
      "source": [
        "num1 = float(input('Digite o primeiro número: '))\n",
        "num2 = float(input('Digite o segundo número: '))\n",
        "\n",
        "if num1 > num2:\n",
        "  print(f'{num1} é o maior número.')\n",
        "elif num2 > num1:\n",
        "  print(f'{num2} é o maior número.')"
      ],
      "execution_count": null,
      "outputs": [
        {
          "output_type": "stream",
          "text": [
            "Digite o primeiro número: 2\n",
            "Digite o segundo número: 4\n",
            "4.0 é o maior número.\n"
          ],
          "name": "stdout"
        }
      ]
    },
    {
      "cell_type": "markdown",
      "metadata": {
        "id": "7w7TYh9S3Qr3"
      },
      "source": [
        "##**Exercício 3**"
      ]
    },
    {
      "cell_type": "markdown",
      "metadata": {
        "id": "OMthzZ_gXLs6"
      },
      "source": [
        "**Faça um script que peça um valor e mostre na tela se ele é positivo ou negativo.**"
      ]
    },
    {
      "cell_type": "code",
      "metadata": {
        "colab": {
          "base_uri": "https://localhost:8080/"
        },
        "id": "Xr673TFq3cpL",
        "outputId": "b9468c2b-c963-49fd-a674-c5d10b104fd4"
      },
      "source": [
        "valor = float(input('Digite um número: '))\n",
        "\n",
        "if valor > 0:\n",
        "  print('Esse é um número positivo.')\n",
        "elif valor < 0:\n",
        "  print('Esse é um número negativo.')\n",
        "else:\n",
        "  print('0 é um número neutro.')"
      ],
      "execution_count": 10,
      "outputs": [
        {
          "output_type": "stream",
          "text": [
            "Digite um número: 4\n",
            "Esse é um número positivo.\n"
          ],
          "name": "stdout"
        }
      ]
    },
    {
      "cell_type": "markdown",
      "metadata": {
        "id": "G9Q7-XDB3dnS"
      },
      "source": [
        "##**Exercício 4**"
      ]
    },
    {
      "cell_type": "markdown",
      "metadata": {
        "id": "DLIkLCmXXXWB"
      },
      "source": [
        "**Crie um programa que verifique se uma letra digitada é \"F\" ou \"M\". Conforme a letra, escrever: F - Feminino, M - Masculino ou Sexo inválido.**"
      ]
    },
    {
      "cell_type": "code",
      "metadata": {
        "colab": {
          "base_uri": "https://localhost:8080/"
        },
        "id": "UVRXZUdB3xeZ",
        "outputId": "34b91d2d-2def-47ad-8215-dca88a820711"
      },
      "source": [
        "sexo = input('Sexo (M ou F): ').upper()\n",
        "\n",
        "if sexo == 'M':\n",
        "  print('Masculino')\n",
        "elif sexo == 'F':\n",
        "  print('Feminino')\n",
        "else:\n",
        "  print('Sexo inválido!')"
      ],
      "execution_count": 6,
      "outputs": [
        {
          "output_type": "stream",
          "text": [
            "Sexo (M ou F): f\n",
            "Feminino\n"
          ],
          "name": "stdout"
        }
      ]
    },
    {
      "cell_type": "markdown",
      "metadata": {
        "id": "uLOQOkCIXlaR"
      },
      "source": [
        "##**Exercício 5**"
      ]
    },
    {
      "cell_type": "markdown",
      "metadata": {
        "id": "5-uqKN8p30NE"
      },
      "source": [
        "**Crie um programa em Python que peça a nota do aluno, que deve ser um float entre 0.00 e 10.0.**\n",
        "\n",
        "•\tSe a nota for menor que 6.0, deve exibir a nota F.\n",
        "\n",
        "•\tSe a nota for de 6.0 até 7.0, deve exibir a nota D.\n",
        "\n",
        "•\tSe a nota for entre 7.0 e 8.0, deve exibir a nota C.\n",
        "\n",
        "•\tSe a nota for entre 8.0 e 9.0, deve exibir a nota B.\n",
        "\n",
        "•\tPor fim, se for entre 9.0 e 10.0, deve exibir um belo de um A.\n"
      ]
    },
    {
      "cell_type": "code",
      "metadata": {
        "colab": {
          "base_uri": "https://localhost:8080/"
        },
        "id": "SQRm5f0H4UUD",
        "outputId": "fc1ebd4f-afa6-4a39-baf1-308f02d2743a"
      },
      "source": [
        "nota = float(input('Digite a nota do aluno: '))\n",
        "\n",
        "if nota < 6.0:\n",
        "  print('Nota: F')\n",
        "elif nota >= 6.0 and nota < 7.0:\n",
        "  print('Nota: D')\n",
        "elif nota >= 7.0 and nota < 8.0:\n",
        "  print('Nota: C')\n",
        "elif nota >= 8.0 and nota < 9.0:\n",
        "  print('Nota: B')\n",
        "elif nota >= 9.0 and nota <= 10.0:\n",
        "  print('Nota: A')"
      ],
      "execution_count": null,
      "outputs": [
        {
          "output_type": "stream",
          "text": [
            "Digite a nota do aluno: 10\n",
            "Nota: A\n"
          ],
          "name": "stdout"
        }
      ]
    },
    {
      "cell_type": "markdown",
      "metadata": {
        "id": "wNEnxoB-XvGQ"
      },
      "source": [
        "##**Exercício 6**"
      ]
    },
    {
      "cell_type": "markdown",
      "metadata": {
        "id": "m0CGJaHo4WQH"
      },
      "source": [
        "**Faça um programa que verifique se uma letra digitada é vogal ou consoante.**"
      ]
    },
    {
      "cell_type": "code",
      "metadata": {
        "colab": {
          "base_uri": "https://localhost:8080/"
        },
        "id": "XU_oNLD54gck",
        "outputId": "1072dff1-3508-4eea-fc19-68447fc6e937"
      },
      "source": [
        "#Forma 01\n",
        "\n",
        "letra = input('Digite uma letra: ').upper()\n",
        "\n",
        "if letra != 'A' or letra != 'E' or letra != 'I' or letra != 'O' or letra != 'U':\n",
        "    print('Essa letra é uma vogal.')\n",
        "else:\n",
        "    print('Essa letra é uma consoante.')"
      ],
      "execution_count": 1,
      "outputs": [
        {
          "output_type": "stream",
          "text": [
            "Digite uma letra: q\n",
            "Essa letra é uma vogal.\n"
          ],
          "name": "stdout"
        }
      ]
    },
    {
      "cell_type": "code",
      "metadata": {
        "colab": {
          "base_uri": "https://localhost:8080/"
        },
        "id": "V02g4FLucRIS",
        "outputId": "4b147e5f-ace4-482d-f032-4f2b2ea7ca42"
      },
      "source": [
        "#Forma 02\n",
        "\n",
        "letra = input('Digite uma letra: ').upper()\n",
        "\n",
        "if letra in 'AEIOU': #Lista (\"contido em\")\n",
        "    print('Essa letra é uma vogal.')\n",
        "else:\n",
        "    print('Essa letra é uma consoante.')"
      ],
      "execution_count": 13,
      "outputs": [
        {
          "output_type": "stream",
          "text": [
            "Digite uma letra: q\n",
            "Essa letra é uma consoante.\n"
          ],
          "name": "stdout"
        }
      ]
    },
    {
      "cell_type": "markdown",
      "metadata": {
        "id": "7luvT1gHYDTc"
      },
      "source": [
        "##**PROJETO 1**"
      ]
    },
    {
      "cell_type": "markdown",
      "metadata": {
        "id": "xjF-6Fhw4n-B"
      },
      "source": [
        "Resultado da primeira/segunda aula em Python:\n",
        "\n",
        "•\tEscreva um programa que receba uma string digitada pelo usuário;\n",
        "\n",
        "•\tCaso a string seja \"medieval\", exiba no console: \"espada\";\n",
        "\n",
        "•\tSe a string for \"futurista\", exiba no console: \"sabre de luz\";\n",
        "\n",
        "•\tCaso contrário, exiba no console: \"tente novamente\".\n"
      ]
    },
    {
      "cell_type": "code",
      "metadata": {
        "colab": {
          "base_uri": "https://localhost:8080/"
        },
        "id": "0SM1uJ6c5UMA",
        "outputId": "c4f5a6b7-737e-419e-dad9-b1d62939aa42"
      },
      "source": [
        "equip = (input('Seu equipamento será medieval ou futurista? ')).lower()\n",
        "\n",
        "if equip == 'medieval':\n",
        "  print('Você lutará com espada!')\n",
        "elif equip == 'futurista':\n",
        "  print('Você lutará com sabre de luz!')\n",
        "else:\n",
        "  print('Entrada inválida!')"
      ],
      "execution_count": 66,
      "outputs": [
        {
          "output_type": "stream",
          "text": [
            "Seu equipamento será medieval ou futurista? Medieval\n",
            "Você lutará com espada!\n"
          ],
          "name": "stdout"
        }
      ]
    },
    {
      "cell_type": "markdown",
      "metadata": {
        "id": "b7kFEl5cYLic"
      },
      "source": [
        "##**Continuação do PROJETO 1**"
      ]
    },
    {
      "cell_type": "markdown",
      "metadata": {
        "id": "6ziaYq9u5XVi"
      },
      "source": [
        "•\tEscreva um programa que receba um ataque de espada ou de sabre digitado pelo usuário;\n",
        "\n",
        "•\tCaso o ataque seja \"espada\", exiba no console: \"VOCÊ AINDA NÃO MATOU O CHEFÃO\";\n",
        "\n",
        "•\tSe o ataque for \"sabre\", exiba no console: \"VOCÊ DERROTOU O CHEFÃO COM O SABRE DE LUZ\";\n",
        "\n",
        "•\tCaso contrário, exiba no console: \"ATAQUE NOVAMENTE.\"\n"
      ]
    },
    {
      "cell_type": "code",
      "metadata": {
        "colab": {
          "base_uri": "https://localhost:8080/"
        },
        "id": "fb_J39zK53nb",
        "outputId": "2f102b29-bc05-411b-b1ea-1c624fb61a07"
      },
      "source": [
        "ataque = input('Você atacará com espada ou com sabre de luz? ').upper()\n",
        "\n",
        "if ataque == 'ESPADA':\n",
        "  print('VOCÊ AINDA NÃO MATOU O CHEFÃO!')\n",
        "elif ataque == 'SABRE DE LUZ':\n",
        "  print('VOCÊ DERROTOU O CHEFÃO COM O SABRE DE LUZ!')\n",
        "else:\n",
        "  print('ATAQUE NOVAMENTE!')"
      ],
      "execution_count": 31,
      "outputs": [
        {
          "output_type": "stream",
          "text": [
            "Você atacará com espada ou com sabre de luz? Espada\n",
            "VOCÊ AINDA NÃO MATOU O CHEFÃO!\n"
          ],
          "name": "stdout"
        }
      ]
    },
    {
      "cell_type": "markdown",
      "metadata": {
        "id": "Z_pZPdR6YTg8"
      },
      "source": [
        "##**DESAFIO 1**"
      ]
    },
    {
      "cell_type": "markdown",
      "metadata": {
        "id": "iwx9r4zd54el"
      },
      "source": [
        "**As empresas @.com resolveram dar um aumento de salário aos seus colaboradores e a contrataram para desenvolver o programa que calculará os reajustes.**\n",
        "\n",
        "Faça um programa que receba o salário de um colaborador e reajuste-o com o seguinte critério baseado no salário atual:\n",
        "\n",
        "•\tSalários de até 280,00 reais: aumento de 20%;\n",
        "\n",
        "•\tSalários de 280,00 a 700,00 reais: aumento de 15%;\n",
        "\n",
        "•\tSalários de 700,00 a 1500,00 reais: aumento de 10%;\n",
        "\n",
        "•\tSalários de 1500,00 reais em diante: aumento de 5%.\n",
        "\n",
        "Após o aumento ser realizado, informe na tela:\n",
        "\n",
        "•\tO salário antes do reajuste;\n",
        "\n",
        "•\tO percentual de aumento aplicado;\n",
        "\n",
        "•\tO valor do aumento;\n",
        "\n",
        "•\tO novo salário, após o aumento.\n"
      ]
    },
    {
      "cell_type": "code",
      "metadata": {
        "colab": {
          "base_uri": "https://localhost:8080/"
        },
        "id": "v23rezBo790B",
        "outputId": "75f338e8-7784-4587-f7fd-b52623adc651"
      },
      "source": [
        "salario = float(input('Digite o sálario: R$'))\n",
        "\n",
        "ajuste = 0\n",
        "if salario <= 280.00:\n",
        "  ajuste = 20\n",
        "elif salario > 280.00 and salario < 700.00:\n",
        "  ajuste = 15\n",
        "elif salario >= 700.00 and salario < 1500.00:\n",
        "  ajuste = 10\n",
        "else:\n",
        "  ajuste = 5\n",
        "calculo = ajuste/100 + 1\n",
        "\n",
        "print(f'''Sálario antes do reajuste: R${salario:.2f}\n",
        "Percentual do aumento: {ajuste}%\n",
        "Valor do aumento: R${salario*(ajuste/100):.2f}\n",
        "Novo salário: R${salario*calculo:.2f}\n",
        "''')"
      ],
      "execution_count": 26,
      "outputs": [
        {
          "output_type": "stream",
          "text": [
            "Digite o sálario: R$1000\n",
            "Sálario antes do reajuste: R$1000.00\n",
            "Percentual do aumento: 10%\n",
            "Valor do aumento: R$100.00\n",
            "Novo salário: R$1100.00\n",
            "\n"
          ],
          "name": "stdout"
        }
      ]
    },
    {
      "cell_type": "markdown",
      "metadata": {
        "id": "9lEkYwxlYjYK"
      },
      "source": [
        "##**DESAFIO 2**"
      ]
    },
    {
      "cell_type": "markdown",
      "metadata": {
        "id": "watzzDkS8MLC"
      },
      "source": [
        "Faça um programa para um caixa eletrônico.\n",
        "\n",
        "O programa deverá perguntar ao usuário o valor do saque e informar quantas notas de cada valor serão fornecidas. \n",
        "\n",
        "As notas disponíveis são as de 1, 5, 10, 50 e 100 reais. \n",
        "O valor mínimo é 10 reais e o máximo é 600 reais. \n",
        "\n",
        "O programa não deve se preocupar com a quantidade de notas existentes na máquina.\n",
        "\n",
        "•\tExemplo 1: para a quantia de 256 reais, o programa fornece duas notas de 100, uma nota de 50, uma nota de 5 e uma nota de 1;\n",
        "\n",
        "•\tExemplo 2: para a quantia de 399 reais, o programa fornece três notas de 100, uma nota de 50, quatro notas de 10, uma nota de 5 e quatro notas de 1.\n"
      ]
    },
    {
      "cell_type": "code",
      "metadata": {
        "colab": {
          "base_uri": "https://localhost:8080/"
        },
        "id": "KoBejzj59U-5",
        "outputId": "e3353315-d458-48df-cf62-de67117e63f2"
      },
      "source": [
        "saque = int(input('Digite o valor do saque (mín. 10 - máx. 600): R$'))\n",
        "\n",
        "if saque < 10 or saque > 600:\n",
        "  print ('Valor inválido!')\n",
        "else:\n",
        "  print(f'''\n",
        "Serão fornecidas:\n",
        "{notas100} notas de R$100.00\n",
        "{notas50} notas de R$50.00\n",
        "{notas10} notas de R$10.00\n",
        "{notas5} notas de R$5.00\n",
        "{notas1} notas de R$1.00\n",
        "''')\n",
        "\n",
        "notas100 = saque // 100 #Devolve a divisão inteira (sem resto), ou seja, quantas notas de 100 cabem no valor do saque.\n",
        "saque = saque % 100 #Devolve o resto da divisão do valor do saque por 100.\n",
        "\n",
        "notas50 = saque // 50\n",
        "saque = saque % 50\n",
        "\n",
        "notas10 = saque // 10\n",
        "saque = saque % 10\n",
        "\n",
        "notas5 = saque // 5\n",
        "saque = saque % 5\n",
        "\n",
        "notas1 = saque"
      ],
      "execution_count": 65,
      "outputs": [
        {
          "output_type": "stream",
          "text": [
            "Digite o valor do saque (mín. 10 - máx. 600): R$600\n",
            "\n",
            "Serão fornecidas:\n",
            "6 notas de R$100.00\n",
            "0 notas de R$50.00\n",
            "0 notas de R$10.00\n",
            "0 notas de R$5.00\n",
            "0 notas de R$1.00\n",
            "\n"
          ],
          "name": "stdout"
        }
      ]
    }
  ]
}